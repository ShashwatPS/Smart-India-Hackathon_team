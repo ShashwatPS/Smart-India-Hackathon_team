{
 "cells": [
  {
   "cell_type": "markdown",
   "id": "264094e0",
   "metadata": {},
   "source": [
    "## Importing Libraries"
   ]
  },
  {
   "cell_type": "code",
   "execution_count": 2,
   "id": "789edb2b",
   "metadata": {
    "ExecuteTime": {
     "end_time": "2023-09-07T08:20:10.112998900Z",
     "start_time": "2023-09-07T08:20:09.900713700Z"
    }
   },
   "outputs": [],
   "source": [
    "import numpy as np\n",
    "import pandas as pd\n",
    "from sklearn.metrics import classification_report, confusion_matrix, accuracy_score\n",
    "from sklearn.model_selection import train_test_split\n",
    "import matplotlib.pyplot as plt\n",
    "import xgboost as xgb\n",
    "import os\n",
    "import seaborn as sns"
   ]
  },
  {
   "cell_type": "code",
   "execution_count": 3,
   "id": "1b52d652",
   "metadata": {
    "ExecuteTime": {
     "end_time": "2023-09-07T08:20:10.990122100Z",
     "start_time": "2023-09-07T08:20:09.911333700Z"
    }
   },
   "outputs": [
    {
     "name": "stdout",
     "output_type": "stream",
     "text": [
      "(651191, 2)\n"
     ]
    },
    {
     "data": {
      "text/html": [
       "<div>\n",
       "<style scoped>\n",
       "    .dataframe tbody tr th:only-of-type {\n",
       "        vertical-align: middle;\n",
       "    }\n",
       "\n",
       "    .dataframe tbody tr th {\n",
       "        vertical-align: top;\n",
       "    }\n",
       "\n",
       "    .dataframe thead th {\n",
       "        text-align: right;\n",
       "    }\n",
       "</style>\n",
       "<table border=\"1\" class=\"dataframe\">\n",
       "  <thead>\n",
       "    <tr style=\"text-align: right;\">\n",
       "      <th></th>\n",
       "      <th>url</th>\n",
       "      <th>type</th>\n",
       "    </tr>\n",
       "  </thead>\n",
       "  <tbody>\n",
       "    <tr>\n",
       "      <th>0</th>\n",
       "      <td>br-icloud.com.br</td>\n",
       "      <td>phishing</td>\n",
       "    </tr>\n",
       "    <tr>\n",
       "      <th>1</th>\n",
       "      <td>mp3raid.com/music/krizz_kaliko.html</td>\n",
       "      <td>benign</td>\n",
       "    </tr>\n",
       "    <tr>\n",
       "      <th>2</th>\n",
       "      <td>bopsecrets.org/rexroth/cr/1.htm</td>\n",
       "      <td>benign</td>\n",
       "    </tr>\n",
       "    <tr>\n",
       "      <th>3</th>\n",
       "      <td>http://www.garage-pirenne.be/index.php?option=...</td>\n",
       "      <td>defacement</td>\n",
       "    </tr>\n",
       "    <tr>\n",
       "      <th>4</th>\n",
       "      <td>http://adventure-nicaragua.net/index.php?optio...</td>\n",
       "      <td>defacement</td>\n",
       "    </tr>\n",
       "  </tbody>\n",
       "</table>\n",
       "</div>"
      ],
      "text/plain": [
       "                                                 url        type\n",
       "0                                   br-icloud.com.br    phishing\n",
       "1                mp3raid.com/music/krizz_kaliko.html      benign\n",
       "2                    bopsecrets.org/rexroth/cr/1.htm      benign\n",
       "3  http://www.garage-pirenne.be/index.php?option=...  defacement\n",
       "4  http://adventure-nicaragua.net/index.php?optio...  defacement"
      ]
     },
     "execution_count": 3,
     "metadata": {},
     "output_type": "execute_result"
    }
   ],
   "source": [
    "df=pd.read_csv('malicious_phish.csv')\n",
    "\n",
    "print(df.shape)\n",
    "df.head()"
   ]
  },
  {
   "cell_type": "code",
   "execution_count": 4,
   "id": "eb24196b",
   "metadata": {
    "ExecuteTime": {
     "end_time": "2023-09-07T08:20:11.091377300Z",
     "start_time": "2023-09-07T08:20:10.988113700Z"
    }
   },
   "outputs": [
    {
     "data": {
      "text/plain": [
       "benign        428103\n",
       "defacement     96457\n",
       "phishing       94111\n",
       "malware        32520\n",
       "Name: type, dtype: int64"
      ]
     },
     "execution_count": 4,
     "metadata": {},
     "output_type": "execute_result"
    }
   ],
   "source": [
    "df.type.value_counts()"
   ]
  },
  {
   "cell_type": "markdown",
   "id": "1051e002",
   "metadata": {},
   "source": [
    "### Plotting WordCloud"
   ]
  },
  {
   "cell_type": "code",
   "execution_count": 5,
   "id": "6dbbe70e",
   "metadata": {
    "ExecuteTime": {
     "end_time": "2023-09-07T08:20:11.301113300Z",
     "start_time": "2023-09-07T08:20:11.028451700Z"
    }
   },
   "outputs": [],
   "source": [
    "df_phish = df[df.type=='phishing']\n",
    "df_malware = df[df.type=='malware']\n",
    "df_deface = df[df.type=='defacement']\n",
    "de_benign = df[df.type=='benign']"
   ]
  },
  {
   "cell_type": "markdown",
   "id": "bd54ddc5",
   "metadata": {},
   "source": [
    "### Feature Engineering"
   ]
  },
  {
   "cell_type": "code",
   "execution_count": 6,
   "id": "b482ef30",
   "metadata": {
    "ExecuteTime": {
     "end_time": "2023-09-07T08:20:14.912472900Z",
     "start_time": "2023-09-07T08:20:11.249054900Z"
    }
   },
   "outputs": [],
   "source": [
    "import re\n",
    "#Use of IP or not in domain\n",
    "def having_ip_address(url):\n",
    "    match = re.search(\n",
    "        '(([01]?\\\\d\\\\d?|2[0-4]\\\\d|25[0-5])\\\\.([01]?\\\\d\\\\d?|2[0-4]\\\\d|25[0-5])\\\\.([01]?\\\\d\\\\d?|2[0-4]\\\\d|25[0-5])\\\\.'\n",
    "        '([01]?\\\\d\\\\d?|2[0-4]\\\\d|25[0-5])\\\\/)|'  # IPv4\n",
    "        '((0x[0-9a-fA-F]{1,2})\\\\.(0x[0-9a-fA-F]{1,2})\\\\.(0x[0-9a-fA-F]{1,2})\\\\.(0x[0-9a-fA-F]{1,2})\\\\/)' # IPv4 in 16-bit format\n",
    "        '(?:[a-fA-F0-9]{1,4}:){7}[a-fA-F0-9]{1,4}', url)  # Ipv6\n",
    "    if match:\n",
    "        # print match.group()\n",
    "        return 1\n",
    "    else:\n",
    "        # print 'No matching pattern found'\n",
    "        return 0\n",
    "df['use_of_ip'] = df['url'].apply(lambda i: having_ip_address(i))"
   ]
  },
  {
   "cell_type": "code",
   "execution_count": 7,
   "id": "414b1d88",
   "metadata": {
    "ExecuteTime": {
     "end_time": "2023-09-07T08:20:23.413604300Z",
     "start_time": "2023-09-07T08:20:14.904273600Z"
    }
   },
   "outputs": [],
   "source": [
    "from urllib.parse import urlparse\n",
    "\n",
    "def abnormal_url(url):\n",
    "    hostname = urlparse(url).hostname\n",
    "    hostname = str(hostname)\n",
    "    match = re.search(hostname, url)\n",
    "    if match:\n",
    "        # print match.group()\n",
    "        return 1\n",
    "    else:\n",
    "        # print 'No matching pattern found'\n",
    "        return 0\n",
    "\n",
    "\n",
    "df['abnormal_url'] = df['url'].apply(lambda i: abnormal_url(i))"
   ]
  },
  {
   "cell_type": "code",
   "execution_count": 8,
   "id": "6ee16725",
   "metadata": {
    "ExecuteTime": {
     "end_time": "2023-09-07T08:20:28.804192400Z",
     "start_time": "2023-09-07T08:20:23.416127400Z"
    }
   },
   "outputs": [
    {
     "name": "stdout",
     "output_type": "stream",
     "text": [
      "Defaulting to user installation because normal site-packages is not writeable\n",
      "Requirement already satisfied: googlesearch-python in c:\\users\\shash\\appdata\\roaming\\python\\python311\\site-packages (1.2.3)\n",
      "Requirement already satisfied: beautifulsoup4>=4.9 in c:\\programdata\\anaconda3\\lib\\site-packages (from googlesearch-python) (4.12.2)\n",
      "Requirement already satisfied: requests>=2.20 in c:\\programdata\\anaconda3\\lib\\site-packages (from googlesearch-python) (2.31.0)\n",
      "Requirement already satisfied: soupsieve>1.2 in c:\\programdata\\anaconda3\\lib\\site-packages (from beautifulsoup4>=4.9->googlesearch-python) (2.4)\n",
      "Requirement already satisfied: charset-normalizer<4,>=2 in c:\\programdata\\anaconda3\\lib\\site-packages (from requests>=2.20->googlesearch-python) (2.0.4)\n",
      "Requirement already satisfied: idna<4,>=2.5 in c:\\programdata\\anaconda3\\lib\\site-packages (from requests>=2.20->googlesearch-python) (3.4)\n",
      "Requirement already satisfied: urllib3<3,>=1.21.1 in c:\\programdata\\anaconda3\\lib\\site-packages (from requests>=2.20->googlesearch-python) (1.26.16)\n",
      "Requirement already satisfied: certifi>=2017.4.17 in c:\\programdata\\anaconda3\\lib\\site-packages (from requests>=2.20->googlesearch-python) (2023.7.22)\n"
     ]
    }
   ],
   "source": [
    "!pip install googlesearch-python"
   ]
  },
  {
   "cell_type": "code",
   "execution_count": 9,
   "id": "1b1eac37",
   "metadata": {
    "ExecuteTime": {
     "end_time": "2023-09-07T08:20:28.818024400Z",
     "start_time": "2023-09-07T08:20:28.809492800Z"
    }
   },
   "outputs": [],
   "source": [
    "from googlesearch import search"
   ]
  },
  {
   "cell_type": "code",
   "execution_count": 10,
   "id": "3eb6e23d",
   "metadata": {
    "ExecuteTime": {
     "end_time": "2023-09-07T08:20:29.256338100Z",
     "start_time": "2023-09-07T08:20:28.814499500Z"
    }
   },
   "outputs": [],
   "source": [
    "def google_index(url):\n",
    "    site = search(url, 5)\n",
    "    return 1 if site else 0\n",
    "df['google_index'] = df['url'].apply(lambda i: google_index(i))"
   ]
  },
  {
   "cell_type": "code",
   "execution_count": 11,
   "id": "fee231ae",
   "metadata": {
    "ExecuteTime": {
     "end_time": "2023-09-07T08:20:29.582380100Z",
     "start_time": "2023-09-07T08:20:29.260268100Z"
    }
   },
   "outputs": [
    {
     "data": {
      "text/html": [
       "<div>\n",
       "<style scoped>\n",
       "    .dataframe tbody tr th:only-of-type {\n",
       "        vertical-align: middle;\n",
       "    }\n",
       "\n",
       "    .dataframe tbody tr th {\n",
       "        vertical-align: top;\n",
       "    }\n",
       "\n",
       "    .dataframe thead th {\n",
       "        text-align: right;\n",
       "    }\n",
       "</style>\n",
       "<table border=\"1\" class=\"dataframe\">\n",
       "  <thead>\n",
       "    <tr style=\"text-align: right;\">\n",
       "      <th></th>\n",
       "      <th>url</th>\n",
       "      <th>type</th>\n",
       "      <th>use_of_ip</th>\n",
       "      <th>abnormal_url</th>\n",
       "      <th>google_index</th>\n",
       "      <th>count.</th>\n",
       "    </tr>\n",
       "  </thead>\n",
       "  <tbody>\n",
       "    <tr>\n",
       "      <th>0</th>\n",
       "      <td>br-icloud.com.br</td>\n",
       "      <td>phishing</td>\n",
       "      <td>0</td>\n",
       "      <td>0</td>\n",
       "      <td>1</td>\n",
       "      <td>2</td>\n",
       "    </tr>\n",
       "    <tr>\n",
       "      <th>1</th>\n",
       "      <td>mp3raid.com/music/krizz_kaliko.html</td>\n",
       "      <td>benign</td>\n",
       "      <td>0</td>\n",
       "      <td>0</td>\n",
       "      <td>1</td>\n",
       "      <td>2</td>\n",
       "    </tr>\n",
       "    <tr>\n",
       "      <th>2</th>\n",
       "      <td>bopsecrets.org/rexroth/cr/1.htm</td>\n",
       "      <td>benign</td>\n",
       "      <td>0</td>\n",
       "      <td>0</td>\n",
       "      <td>1</td>\n",
       "      <td>2</td>\n",
       "    </tr>\n",
       "    <tr>\n",
       "      <th>3</th>\n",
       "      <td>http://www.garage-pirenne.be/index.php?option=...</td>\n",
       "      <td>defacement</td>\n",
       "      <td>0</td>\n",
       "      <td>1</td>\n",
       "      <td>1</td>\n",
       "      <td>3</td>\n",
       "    </tr>\n",
       "    <tr>\n",
       "      <th>4</th>\n",
       "      <td>http://adventure-nicaragua.net/index.php?optio...</td>\n",
       "      <td>defacement</td>\n",
       "      <td>0</td>\n",
       "      <td>1</td>\n",
       "      <td>1</td>\n",
       "      <td>2</td>\n",
       "    </tr>\n",
       "  </tbody>\n",
       "</table>\n",
       "</div>"
      ],
      "text/plain": [
       "                                                 url        type  use_of_ip  \\\n",
       "0                                   br-icloud.com.br    phishing          0   \n",
       "1                mp3raid.com/music/krizz_kaliko.html      benign          0   \n",
       "2                    bopsecrets.org/rexroth/cr/1.htm      benign          0   \n",
       "3  http://www.garage-pirenne.be/index.php?option=...  defacement          0   \n",
       "4  http://adventure-nicaragua.net/index.php?optio...  defacement          0   \n",
       "\n",
       "   abnormal_url  google_index  count.  \n",
       "0             0             1       2  \n",
       "1             0             1       2  \n",
       "2             0             1       2  \n",
       "3             1             1       3  \n",
       "4             1             1       2  "
      ]
     },
     "execution_count": 11,
     "metadata": {},
     "output_type": "execute_result"
    }
   ],
   "source": [
    "def count_dot(url):\n",
    "    count_dot = url.count('.')\n",
    "    return count_dot\n",
    "\n",
    "df['count.'] = df['url'].apply(lambda i: count_dot(i))\n",
    "df.head()"
   ]
  },
  {
   "cell_type": "code",
   "execution_count": 12,
   "id": "cb79cc1d",
   "metadata": {
    "ExecuteTime": {
     "end_time": "2023-09-07T08:20:40.708314200Z",
     "start_time": "2023-09-07T08:20:29.603411500Z"
    }
   },
   "outputs": [],
   "source": [
    "def count_www(url):\n",
    "    url.count('www')\n",
    "    return url.count('www')\n",
    "\n",
    "df['count-www'] = df['url'].apply(lambda i: count_www(i))\n",
    "\n",
    "def count_atrate(url):\n",
    "     \n",
    "    return url.count('@')\n",
    "\n",
    "df['count@'] = df['url'].apply(lambda i: count_atrate(i))\n",
    "\n",
    "\n",
    "def no_of_dir(url):\n",
    "    urldir = urlparse(url).path\n",
    "    return urldir.count('/')\n",
    "\n",
    "df['count_dir'] = df['url'].apply(lambda i: no_of_dir(i))\n",
    "\n",
    "def no_of_embed(url):\n",
    "    urldir = urlparse(url).path\n",
    "    return urldir.count('//')\n",
    "\n",
    "df['count_embed_domian'] = df['url'].apply(lambda i: no_of_embed(i))\n",
    "\n",
    "\n",
    "def shortening_service(url):\n",
    "    match = re.search('bit\\.ly|goo\\.gl|shorte\\.st|go2l\\.ink|x\\.co|ow\\.ly|t\\.co|tinyurl|tr\\.im|is\\.gd|cli\\.gs|'\n",
    "                      'yfrog\\.com|migre\\.me|ff\\.im|tiny\\.cc|url4\\.eu|twit\\.ac|su\\.pr|twurl\\.nl|snipurl\\.com|'\n",
    "                      'short\\.to|BudURL\\.com|ping\\.fm|post\\.ly|Just\\.as|bkite\\.com|snipr\\.com|fic\\.kr|loopt\\.us|'\n",
    "                      'doiop\\.com|short\\.ie|kl\\.am|wp\\.me|rubyurl\\.com|om\\.ly|to\\.ly|bit\\.do|t\\.co|lnkd\\.in|'\n",
    "                      'db\\.tt|qr\\.ae|adf\\.ly|goo\\.gl|bitly\\.com|cur\\.lv|tinyurl\\.com|ow\\.ly|bit\\.ly|ity\\.im|'\n",
    "                      'q\\.gs|is\\.gd|po\\.st|bc\\.vc|twitthis\\.com|u\\.to|j\\.mp|buzurl\\.com|cutt\\.us|u\\.bb|yourls\\.org|'\n",
    "                      'x\\.co|prettylinkpro\\.com|scrnch\\.me|filoops\\.info|vzturl\\.com|qr\\.net|1url\\.com|tweez\\.me|v\\.gd|'\n",
    "                      'tr\\.im|link\\.zip\\.net',\n",
    "                      url)\n",
    "    if match:\n",
    "        return 1\n",
    "    else:\n",
    "        return 0\n",
    "    \n",
    "    \n",
    "df['short_url'] = df['url'].apply(lambda i: shortening_service(i))"
   ]
  },
  {
   "cell_type": "code",
   "execution_count": 13,
   "id": "337d4abc",
   "metadata": {
    "ExecuteTime": {
     "end_time": "2023-09-07T08:20:41.353819400Z",
     "start_time": "2023-09-07T08:20:40.709324300Z"
    }
   },
   "outputs": [],
   "source": [
    "def count_https(url):\n",
    "    return url.count('https')\n",
    "\n",
    "df['count-https'] = df['url'].apply(lambda i : count_https(i))\n",
    "\n",
    "def count_http(url):\n",
    "    return url.count('http')\n",
    "\n",
    "df['count-http'] = df['url'].apply(lambda i : count_http(i))"
   ]
  },
  {
   "cell_type": "code",
   "execution_count": 14,
   "id": "4a67e479",
   "metadata": {
    "ExecuteTime": {
     "end_time": "2023-09-07T08:20:49.632079500Z",
     "start_time": "2023-09-07T08:20:41.363354600Z"
    }
   },
   "outputs": [
    {
     "data": {
      "text/html": [
       "<div>\n",
       "<style scoped>\n",
       "    .dataframe tbody tr th:only-of-type {\n",
       "        vertical-align: middle;\n",
       "    }\n",
       "\n",
       "    .dataframe tbody tr th {\n",
       "        vertical-align: top;\n",
       "    }\n",
       "\n",
       "    .dataframe thead th {\n",
       "        text-align: right;\n",
       "    }\n",
       "</style>\n",
       "<table border=\"1\" class=\"dataframe\">\n",
       "  <thead>\n",
       "    <tr style=\"text-align: right;\">\n",
       "      <th></th>\n",
       "      <th>url</th>\n",
       "      <th>type</th>\n",
       "      <th>use_of_ip</th>\n",
       "      <th>abnormal_url</th>\n",
       "      <th>google_index</th>\n",
       "      <th>count.</th>\n",
       "      <th>count-www</th>\n",
       "      <th>count@</th>\n",
       "      <th>count_dir</th>\n",
       "      <th>count_embed_domian</th>\n",
       "      <th>...</th>\n",
       "      <th>count-http</th>\n",
       "      <th>count%</th>\n",
       "      <th>count?</th>\n",
       "      <th>count-</th>\n",
       "      <th>count=</th>\n",
       "      <th>url_length</th>\n",
       "      <th>hostname_length</th>\n",
       "      <th>sus_url</th>\n",
       "      <th>count-digits</th>\n",
       "      <th>count-letters</th>\n",
       "    </tr>\n",
       "  </thead>\n",
       "  <tbody>\n",
       "    <tr>\n",
       "      <th>0</th>\n",
       "      <td>br-icloud.com.br</td>\n",
       "      <td>phishing</td>\n",
       "      <td>0</td>\n",
       "      <td>0</td>\n",
       "      <td>1</td>\n",
       "      <td>2</td>\n",
       "      <td>0</td>\n",
       "      <td>0</td>\n",
       "      <td>0</td>\n",
       "      <td>0</td>\n",
       "      <td>...</td>\n",
       "      <td>0</td>\n",
       "      <td>0</td>\n",
       "      <td>0</td>\n",
       "      <td>1</td>\n",
       "      <td>0</td>\n",
       "      <td>16</td>\n",
       "      <td>0</td>\n",
       "      <td>0</td>\n",
       "      <td>0</td>\n",
       "      <td>13</td>\n",
       "    </tr>\n",
       "    <tr>\n",
       "      <th>1</th>\n",
       "      <td>mp3raid.com/music/krizz_kaliko.html</td>\n",
       "      <td>benign</td>\n",
       "      <td>0</td>\n",
       "      <td>0</td>\n",
       "      <td>1</td>\n",
       "      <td>2</td>\n",
       "      <td>0</td>\n",
       "      <td>0</td>\n",
       "      <td>2</td>\n",
       "      <td>0</td>\n",
       "      <td>...</td>\n",
       "      <td>0</td>\n",
       "      <td>0</td>\n",
       "      <td>0</td>\n",
       "      <td>0</td>\n",
       "      <td>0</td>\n",
       "      <td>35</td>\n",
       "      <td>0</td>\n",
       "      <td>0</td>\n",
       "      <td>1</td>\n",
       "      <td>29</td>\n",
       "    </tr>\n",
       "    <tr>\n",
       "      <th>2</th>\n",
       "      <td>bopsecrets.org/rexroth/cr/1.htm</td>\n",
       "      <td>benign</td>\n",
       "      <td>0</td>\n",
       "      <td>0</td>\n",
       "      <td>1</td>\n",
       "      <td>2</td>\n",
       "      <td>0</td>\n",
       "      <td>0</td>\n",
       "      <td>3</td>\n",
       "      <td>0</td>\n",
       "      <td>...</td>\n",
       "      <td>0</td>\n",
       "      <td>0</td>\n",
       "      <td>0</td>\n",
       "      <td>0</td>\n",
       "      <td>0</td>\n",
       "      <td>31</td>\n",
       "      <td>0</td>\n",
       "      <td>0</td>\n",
       "      <td>1</td>\n",
       "      <td>25</td>\n",
       "    </tr>\n",
       "    <tr>\n",
       "      <th>3</th>\n",
       "      <td>http://www.garage-pirenne.be/index.php?option=...</td>\n",
       "      <td>defacement</td>\n",
       "      <td>0</td>\n",
       "      <td>1</td>\n",
       "      <td>1</td>\n",
       "      <td>3</td>\n",
       "      <td>1</td>\n",
       "      <td>0</td>\n",
       "      <td>1</td>\n",
       "      <td>0</td>\n",
       "      <td>...</td>\n",
       "      <td>1</td>\n",
       "      <td>0</td>\n",
       "      <td>1</td>\n",
       "      <td>1</td>\n",
       "      <td>4</td>\n",
       "      <td>88</td>\n",
       "      <td>21</td>\n",
       "      <td>0</td>\n",
       "      <td>7</td>\n",
       "      <td>63</td>\n",
       "    </tr>\n",
       "    <tr>\n",
       "      <th>4</th>\n",
       "      <td>http://adventure-nicaragua.net/index.php?optio...</td>\n",
       "      <td>defacement</td>\n",
       "      <td>0</td>\n",
       "      <td>1</td>\n",
       "      <td>1</td>\n",
       "      <td>2</td>\n",
       "      <td>0</td>\n",
       "      <td>0</td>\n",
       "      <td>1</td>\n",
       "      <td>0</td>\n",
       "      <td>...</td>\n",
       "      <td>1</td>\n",
       "      <td>0</td>\n",
       "      <td>1</td>\n",
       "      <td>1</td>\n",
       "      <td>3</td>\n",
       "      <td>235</td>\n",
       "      <td>23</td>\n",
       "      <td>0</td>\n",
       "      <td>22</td>\n",
       "      <td>199</td>\n",
       "    </tr>\n",
       "  </tbody>\n",
       "</table>\n",
       "<p>5 rows × 22 columns</p>\n",
       "</div>"
      ],
      "text/plain": [
       "                                                 url        type  use_of_ip  \\\n",
       "0                                   br-icloud.com.br    phishing          0   \n",
       "1                mp3raid.com/music/krizz_kaliko.html      benign          0   \n",
       "2                    bopsecrets.org/rexroth/cr/1.htm      benign          0   \n",
       "3  http://www.garage-pirenne.be/index.php?option=...  defacement          0   \n",
       "4  http://adventure-nicaragua.net/index.php?optio...  defacement          0   \n",
       "\n",
       "   abnormal_url  google_index  count.  count-www  count@  count_dir  \\\n",
       "0             0             1       2          0       0          0   \n",
       "1             0             1       2          0       0          2   \n",
       "2             0             1       2          0       0          3   \n",
       "3             1             1       3          1       0          1   \n",
       "4             1             1       2          0       0          1   \n",
       "\n",
       "   count_embed_domian  ...  count-http  count%  count?  count-  count=  \\\n",
       "0                   0  ...           0       0       0       1       0   \n",
       "1                   0  ...           0       0       0       0       0   \n",
       "2                   0  ...           0       0       0       0       0   \n",
       "3                   0  ...           1       0       1       1       4   \n",
       "4                   0  ...           1       0       1       1       3   \n",
       "\n",
       "   url_length  hostname_length  sus_url  count-digits  count-letters  \n",
       "0          16                0        0             0             13  \n",
       "1          35                0        0             1             29  \n",
       "2          31                0        0             1             25  \n",
       "3          88               21        0             7             63  \n",
       "4         235               23        0            22            199  \n",
       "\n",
       "[5 rows x 22 columns]"
      ]
     },
     "execution_count": 14,
     "metadata": {},
     "output_type": "execute_result"
    }
   ],
   "source": [
    "def count_per(url):\n",
    "    return url.count('%')\n",
    "\n",
    "df['count%'] = df['url'].apply(lambda i : count_per(i))\n",
    "\n",
    "def count_ques(url):\n",
    "    return url.count('?')\n",
    "\n",
    "df['count?'] = df['url'].apply(lambda i: count_ques(i))\n",
    "\n",
    "def count_hyphen(url):\n",
    "    return url.count('-')\n",
    "\n",
    "df['count-'] = df['url'].apply(lambda i: count_hyphen(i))\n",
    "\n",
    "def count_equal(url):\n",
    "    return url.count('=')\n",
    "\n",
    "df['count='] = df['url'].apply(lambda i: count_equal(i))\n",
    "\n",
    "def url_length(url):\n",
    "    return len(str(url))\n",
    "\n",
    "#Length of URL\n",
    "df['url_length'] = df['url'].apply(lambda i: url_length(i))\n",
    "#Hostname Length\n",
    "\n",
    "def hostname_length(url):\n",
    "    return len(urlparse(url).netloc)\n",
    "\n",
    "df['hostname_length'] = df['url'].apply(lambda i: hostname_length(i))\n",
    "\n",
    "df.head()\n",
    "\n",
    "def suspicious_words(url):\n",
    "    match = re.search('PayPal|login|signin|bank|account|update|free|lucky|service|bonus|ebayisapi|webscr',\n",
    "                      url)\n",
    "    if match:\n",
    "        return 1\n",
    "    else:\n",
    "        return 0\n",
    "df['sus_url'] = df['url'].apply(lambda i: suspicious_words(i))\n",
    "\n",
    "\n",
    "def digit_count(url):\n",
    "    digits = 0\n",
    "    for i in url:\n",
    "        if i.isnumeric():\n",
    "            digits = digits + 1\n",
    "    return digits\n",
    "\n",
    "df['count-digits']= df['url'].apply(lambda i: digit_count(i))\n",
    "\n",
    "def letter_count(url):\n",
    "    letters = 0\n",
    "    for i in url:\n",
    "        if i.isalpha():\n",
    "            letters = letters + 1\n",
    "    return letters\n",
    "\n",
    "\n",
    "df['count-letters']= df['url'].apply(lambda i: letter_count(i))\n",
    "\n",
    "df.head()"
   ]
  },
  {
   "cell_type": "code",
   "execution_count": 15,
   "id": "d9c2c902",
   "metadata": {
    "ExecuteTime": {
     "end_time": "2023-09-07T08:20:54.720464800Z",
     "start_time": "2023-09-07T08:20:49.631081200Z"
    }
   },
   "outputs": [
    {
     "name": "stdout",
     "output_type": "stream",
     "text": [
      "Defaulting to user installation because normal site-packages is not writeable\n",
      "Requirement already satisfied: tld in c:\\users\\shash\\appdata\\roaming\\python\\python311\\site-packages (0.13)\n"
     ]
    }
   ],
   "source": [
    "!pip install tld"
   ]
  },
  {
   "cell_type": "code",
   "execution_count": 16,
   "id": "acacb8c9",
   "metadata": {
    "ExecuteTime": {
     "end_time": "2023-09-07T08:21:01.075175400Z",
     "start_time": "2023-09-07T08:20:54.722457600Z"
    }
   },
   "outputs": [],
   "source": [
    "#Importing dependencies\n",
    "from urllib.parse import urlparse\n",
    "from tld import get_tld\n",
    "import os.path\n",
    "\n",
    "#First Directory Length\n",
    "def fd_length(url):\n",
    "    urlpath= urlparse(url).path\n",
    "    try:\n",
    "        return len(urlpath.split('/')[1])\n",
    "    except:\n",
    "        return 0\n",
    "\n",
    "df['fd_length'] = df['url'].apply(lambda i: fd_length(i))\n",
    "\n",
    "#Length of Top Level Domain\n",
    "df['tld'] = df['url'].apply(lambda i: get_tld(i,fail_silently=True))\n",
    "\n",
    "\n",
    "def tld_length(tld):\n",
    "    try:\n",
    "        return len(tld)\n",
    "    except:\n",
    "        return -1\n",
    "\n",
    "df['tld_length'] = df['tld'].apply(lambda i: tld_length(i))"
   ]
  },
  {
   "cell_type": "code",
   "execution_count": 17,
   "id": "052b6641",
   "metadata": {
    "ExecuteTime": {
     "end_time": "2023-09-07T08:21:01.160634400Z",
     "start_time": "2023-09-07T08:21:01.076706200Z"
    }
   },
   "outputs": [
    {
     "name": "stderr",
     "output_type": "stream",
     "text": [
      "C:\\Users\\shash\\AppData\\Local\\Temp\\ipykernel_6384\\2551734815.py:1: FutureWarning: In a future version of pandas all arguments of DataFrame.drop except for the argument 'labels' will be keyword-only.\n",
      "  df = df.drop(\"tld\",1)\n"
     ]
    }
   ],
   "source": [
    "df = df.drop(\"tld\",1)"
   ]
  },
  {
   "cell_type": "code",
   "execution_count": 18,
   "id": "fc563268",
   "metadata": {
    "ExecuteTime": {
     "end_time": "2023-09-07T08:21:01.170040200Z",
     "start_time": "2023-09-07T08:21:01.161634500Z"
    }
   },
   "outputs": [
    {
     "data": {
      "text/plain": [
       "Index(['url', 'type', 'use_of_ip', 'abnormal_url', 'google_index', 'count.',\n",
       "       'count-www', 'count@', 'count_dir', 'count_embed_domian', 'short_url',\n",
       "       'count-https', 'count-http', 'count%', 'count?', 'count-', 'count=',\n",
       "       'url_length', 'hostname_length', 'sus_url', 'count-digits',\n",
       "       'count-letters', 'fd_length', 'tld_length'],\n",
       "      dtype='object')"
      ]
     },
     "execution_count": 18,
     "metadata": {},
     "output_type": "execute_result"
    }
   ],
   "source": [
    "df.columns"
   ]
  },
  {
   "cell_type": "code",
   "execution_count": 19,
   "id": "52a30e0d",
   "metadata": {
    "ExecuteTime": {
     "end_time": "2023-09-07T08:21:01.259559600Z",
     "start_time": "2023-09-07T08:21:01.166809200Z"
    }
   },
   "outputs": [
    {
     "data": {
      "text/plain": [
       "benign        428103\n",
       "defacement     96457\n",
       "phishing       94111\n",
       "malware        32520\n",
       "Name: type, dtype: int64"
      ]
     },
     "execution_count": 19,
     "metadata": {},
     "output_type": "execute_result"
    }
   ],
   "source": [
    "df['type'].value_counts()"
   ]
  },
  {
   "cell_type": "markdown",
   "id": "10188c19",
   "metadata": {},
   "source": [
    "## Exploratory Data Analysis"
   ]
  },
  {
   "cell_type": "markdown",
   "id": "ce730271",
   "metadata": {},
   "source": [
    "### Abnormal URL"
   ]
  },
  {
   "cell_type": "code",
   "execution_count": 20,
   "id": "878a1457",
   "metadata": {
    "ExecuteTime": {
     "end_time": "2023-09-07T08:21:01.743110600Z",
     "start_time": "2023-09-07T08:21:01.202259500Z"
    }
   },
   "outputs": [
    {
     "data": {
      "image/png": "[encoded data removed]",
      "text/plain": [
       "<Figure size 640x480 with 1 Axes>"
      ]
     },
     "metadata": {},
     "output_type": "display_data"
    }
   ],
   "source": [
    "import seaborn as sns\n",
    "sns.set(style=\"darkgrid\")\n",
    "ax = sns.countplot(y=\"type\", data = df, hue=\"abnormal_url\")"
   ]
  },
  {
   "cell_type": "markdown",
   "id": "a1bb4a1d",
   "metadata": {},
   "source": [
    "### Short URL"
   ]
  },
  {
   "cell_type": "code",
   "execution_count": 21,
   "id": "89260a86",
   "metadata": {
    "ExecuteTime": {
     "end_time": "2023-09-07T08:21:02.477713500Z",
     "start_time": "2023-09-07T08:21:01.743110600Z"
    }
   },
   "outputs": [
    {
     "data": {
      "image/png": "[encoded data removed]",
      "text/plain": [
       "<Figure size 640x480 with 1 Axes>"
      ]
     },
     "metadata": {},
     "output_type": "display_data"
    }
   ],
   "source": [
    "sns.set(style=\"darkgrid\")\n",
    "ax = sns.countplot(y=\"type\", data=df,hue=\"short_url\")"
   ]
  },
  {
   "cell_type": "markdown",
   "id": "865db690",
   "metadata": {},
   "source": [
    "## Target"
   ]
  },
  {
   "cell_type": "code",
   "execution_count": 22,
   "id": "8c8b8f19",
   "metadata": {
    "ExecuteTime": {
     "end_time": "2023-09-07T08:21:02.591431800Z",
     "start_time": "2023-09-07T08:21:02.479705700Z"
    }
   },
   "outputs": [
    {
     "data": {
      "text/plain": [
       "0    428103\n",
       "1     96457\n",
       "3     94111\n",
       "2     32520\n",
       "Name: type_code, dtype: int64"
      ]
     },
     "execution_count": 22,
     "metadata": {},
     "output_type": "execute_result"
    }
   ],
   "source": [
    "from sklearn.preprocessing import LabelEncoder\n",
    "\n",
    "lb_make = LabelEncoder()\n",
    "df[\"type_code\"] = lb_make.fit_transform(df[\"type\"])\n",
    "df[\"type_code\"].value_counts()"
   ]
  },
  {
   "cell_type": "code",
   "execution_count": 23,
   "id": "d481d271",
   "metadata": {
    "ExecuteTime": {
     "end_time": "2023-09-07T08:21:02.963207900Z",
     "start_time": "2023-09-07T08:21:02.597966700Z"
    }
   },
   "outputs": [],
   "source": [
    "#Predictor Variables\n",
    "# filtering out google_index as it has only 1 value\n",
    "X = df[['use_of_ip', 'abnormal_url', 'count.', 'count-www',\n",
    "       'count@', 'count_dir', 'count_embed_domian', 'short_url', 'count-https',\n",
    "       'count-http', 'fd_length', 'tld_length']]\n",
    "\n",
    "#Target Variable\n",
    "y = df['type_code']"
   ]
  },
  {
   "cell_type": "code",
   "execution_count": 24,
   "id": "f456959d",
   "metadata": {
    "ExecuteTime": {
     "end_time": "2023-09-07T08:21:02.980006800Z",
     "start_time": "2023-09-07T08:21:02.956664Z"
    }
   },
   "outputs": [
    {
     "data": {
      "text/html": [
       "<div>\n",
       "<style scoped>\n",
       "    .dataframe tbody tr th:only-of-type {\n",
       "        vertical-align: middle;\n",
       "    }\n",
       "\n",
       "    .dataframe tbody tr th {\n",
       "        vertical-align: top;\n",
       "    }\n",
       "\n",
       "    .dataframe thead th {\n",
       "        text-align: right;\n",
       "    }\n",
       "</style>\n",
       "<table border=\"1\" class=\"dataframe\">\n",
       "  <thead>\n",
       "    <tr style=\"text-align: right;\">\n",
       "      <th></th>\n",
       "      <th>use_of_ip</th>\n",
       "      <th>abnormal_url</th>\n",
       "      <th>count.</th>\n",
       "      <th>count-www</th>\n",
       "      <th>count@</th>\n",
       "      <th>count_dir</th>\n",
       "      <th>count_embed_domian</th>\n",
       "      <th>short_url</th>\n",
       "      <th>count-https</th>\n",
       "      <th>count-http</th>\n",
       "      <th>fd_length</th>\n",
       "      <th>tld_length</th>\n",
       "    </tr>\n",
       "  </thead>\n",
       "  <tbody>\n",
       "    <tr>\n",
       "      <th>0</th>\n",
       "      <td>0</td>\n",
       "      <td>0</td>\n",
       "      <td>2</td>\n",
       "      <td>0</td>\n",
       "      <td>0</td>\n",
       "      <td>0</td>\n",
       "      <td>0</td>\n",
       "      <td>0</td>\n",
       "      <td>0</td>\n",
       "      <td>0</td>\n",
       "      <td>0</td>\n",
       "      <td>-1</td>\n",
       "    </tr>\n",
       "    <tr>\n",
       "      <th>1</th>\n",
       "      <td>0</td>\n",
       "      <td>0</td>\n",
       "      <td>2</td>\n",
       "      <td>0</td>\n",
       "      <td>0</td>\n",
       "      <td>2</td>\n",
       "      <td>0</td>\n",
       "      <td>0</td>\n",
       "      <td>0</td>\n",
       "      <td>0</td>\n",
       "      <td>5</td>\n",
       "      <td>-1</td>\n",
       "    </tr>\n",
       "    <tr>\n",
       "      <th>2</th>\n",
       "      <td>0</td>\n",
       "      <td>0</td>\n",
       "      <td>2</td>\n",
       "      <td>0</td>\n",
       "      <td>0</td>\n",
       "      <td>3</td>\n",
       "      <td>0</td>\n",
       "      <td>0</td>\n",
       "      <td>0</td>\n",
       "      <td>0</td>\n",
       "      <td>7</td>\n",
       "      <td>-1</td>\n",
       "    </tr>\n",
       "    <tr>\n",
       "      <th>3</th>\n",
       "      <td>0</td>\n",
       "      <td>1</td>\n",
       "      <td>3</td>\n",
       "      <td>1</td>\n",
       "      <td>0</td>\n",
       "      <td>1</td>\n",
       "      <td>0</td>\n",
       "      <td>0</td>\n",
       "      <td>0</td>\n",
       "      <td>1</td>\n",
       "      <td>9</td>\n",
       "      <td>2</td>\n",
       "    </tr>\n",
       "    <tr>\n",
       "      <th>4</th>\n",
       "      <td>0</td>\n",
       "      <td>1</td>\n",
       "      <td>2</td>\n",
       "      <td>0</td>\n",
       "      <td>0</td>\n",
       "      <td>1</td>\n",
       "      <td>0</td>\n",
       "      <td>0</td>\n",
       "      <td>0</td>\n",
       "      <td>1</td>\n",
       "      <td>9</td>\n",
       "      <td>3</td>\n",
       "    </tr>\n",
       "  </tbody>\n",
       "</table>\n",
       "</div>"
      ],
      "text/plain": [
       "   use_of_ip  abnormal_url  count.  count-www  count@  count_dir  \\\n",
       "0          0             0       2          0       0          0   \n",
       "1          0             0       2          0       0          2   \n",
       "2          0             0       2          0       0          3   \n",
       "3          0             1       3          1       0          1   \n",
       "4          0             1       2          0       0          1   \n",
       "\n",
       "   count_embed_domian  short_url  count-https  count-http  fd_length  \\\n",
       "0                   0          0            0           0          0   \n",
       "1                   0          0            0           0          5   \n",
       "2                   0          0            0           0          7   \n",
       "3                   0          0            0           1          9   \n",
       "4                   0          0            0           1          9   \n",
       "\n",
       "   tld_length  \n",
       "0          -1  \n",
       "1          -1  \n",
       "2          -1  \n",
       "3           2  \n",
       "4           3  "
      ]
     },
     "execution_count": 24,
     "metadata": {},
     "output_type": "execute_result"
    }
   ],
   "source": [
    "X.head()\n"
   ]
  },
  {
   "cell_type": "markdown",
   "id": "68bccbe5",
   "metadata": {},
   "source": [
    "## Training & Testing"
   ]
  },
  {
   "cell_type": "code",
   "execution_count": 25,
   "id": "70dc1d50",
   "metadata": {
    "ExecuteTime": {
     "end_time": "2023-09-07T08:21:03.434177600Z",
     "start_time": "2023-09-07T08:21:02.973745500Z"
    }
   },
   "outputs": [],
   "source": [
    "X_train, X_test, y_train, y_test = train_test_split(X, y, stratify=y, test_size=0.2,shuffle=True, random_state=5)"
   ]
  },
  {
   "cell_type": "markdown",
   "id": "06fec1af",
   "metadata": {},
   "source": [
    "## Model Building"
   ]
  },
  {
   "cell_type": "markdown",
   "id": "459d45b8",
   "metadata": {},
   "source": [
    "### Random Classifier"
   ]
  },
  {
   "cell_type": "code",
   "execution_count": 26,
   "id": "9a59c4fe",
   "metadata": {
    "ExecuteTime": {
     "end_time": "2023-09-07T08:21:41.447891Z",
     "start_time": "2023-09-07T08:21:03.436682100Z"
    }
   },
   "outputs": [
    {
     "name": "stdout",
     "output_type": "stream",
     "text": [
      "              precision    recall  f1-score   support\n",
      "\n",
      "      benign       0.95      0.98      0.96     85621\n",
      "  defacement       0.93      0.96      0.95     19292\n",
      "    phishing       0.93      0.86      0.89      6504\n",
      "     malware       0.87      0.74      0.80     18822\n",
      "\n",
      "    accuracy                           0.94    130239\n",
      "   macro avg       0.92      0.89      0.90    130239\n",
      "weighted avg       0.93      0.94      0.93    130239\n",
      "\n",
      "accuracy:   0.936\n"
     ]
    }
   ],
   "source": [
    "from sklearn.ensemble import RandomForestClassifier\n",
    "import sklearn.metrics as metrics\n",
    "rf = RandomForestClassifier(n_estimators=100,max_features='sqrt')\n",
    "rf.fit(X_train,y_train)\n",
    "y_pred_rf = rf.predict(X_test)\n",
    "print(classification_report(y_test,y_pred_rf,target_names=['benign', 'defacement','phishing','malware']))\n",
    "\n",
    "score = metrics.accuracy_score(y_test, y_pred_rf)\n",
    "print(\"accuracy:   %0.3f\" % score)"
   ]
  },
  {
   "cell_type": "code",
   "execution_count": 27,
   "id": "d34f7814",
   "metadata": {
    "ExecuteTime": {
     "end_time": "2023-09-07T08:21:41.711687700Z",
     "start_time": "2023-09-07T08:21:41.452893500Z"
    }
   },
   "outputs": [
    {
     "data": {
      "image/png": "[encoded data removed]",
      "text/plain": [
       "<Figure size 800x600 with 2 Axes>"
      ]
     },
     "metadata": {},
     "output_type": "display_data"
    }
   ],
   "source": [
    "cm = confusion_matrix(y_test, y_pred_rf)\n",
    "cm_df = pd.DataFrame(cm,\n",
    "                     index = ['benign', 'defacement','phishing','malware'], \n",
    "                     columns = ['benign', 'defacement','phishing','malware'])\n",
    "plt.figure(figsize=(8,6))\n",
    "sns.heatmap(cm_df, annot=True,fmt=\".1f\")\n",
    "plt.title('Confusion Matrix')\n",
    "plt.ylabel('Actal Values')\n",
    "plt.xlabel('Predicted Values')\n",
    "plt.show()"
   ]
  },
  {
   "cell_type": "code",
   "execution_count": 28,
   "id": "51c8fb68",
   "metadata": {
    "ExecuteTime": {
     "end_time": "2023-09-07T08:21:42.064319800Z",
     "start_time": "2023-09-07T08:21:41.712695500Z"
    }
   },
   "outputs": [
    {
     "data": {
      "text/plain": [
       "<Axes: >"
      ]
     },
     "execution_count": 28,
     "metadata": {},
     "output_type": "execute_result"
    },
    {
     "data": {
      "image/png": "[encoded data removed]",
      "text/plain": [
       "<Figure size 1000x600 with 1 Axes>"
      ]
     },
     "metadata": {},
     "output_type": "display_data"
    }
   ],
   "source": [
    "feat_importances = pd.Series(rf.feature_importances_, index=X_train.columns)\n",
    "feat_importances.sort_values().plot(kind=\"barh\",figsize=(10, 6))"
   ]
  },
  {
   "cell_type": "markdown",
   "id": "7938c837",
   "metadata": {},
   "source": [
    "## XGBoost"
   ]
  },
  {
   "cell_type": "code",
   "execution_count": 29,
   "id": "f13966fc",
   "metadata": {
    "ExecuteTime": {
     "end_time": "2023-09-07T08:22:19.066068500Z",
     "start_time": "2023-09-07T08:21:42.070341200Z"
    }
   },
   "outputs": [
    {
     "name": "stdout",
     "output_type": "stream",
     "text": [
      "              precision    recall  f1-score   support\n",
      "\n",
      "      benign       0.94      0.98      0.96     85621\n",
      "  defacement       0.92      0.96      0.94     19292\n",
      "    phishing       0.93      0.81      0.87      6504\n",
      "     malware       0.86      0.73      0.79     18822\n",
      "\n",
      "    accuracy                           0.93    130239\n",
      "   macro avg       0.91      0.87      0.89    130239\n",
      "weighted avg       0.93      0.93      0.93    130239\n",
      "\n",
      "accuracy:   0.930\n"
     ]
    }
   ],
   "source": [
    "xgb_c = xgb.XGBClassifier(n_estimators= 100)\n",
    "xgb_c.fit(X_train,y_train)\n",
    "y_pred_x = xgb_c.predict(X_test)\n",
    "print(classification_report(y_test,y_pred_x,target_names=['benign', 'defacement','phishing','malware']))\n",
    "\n",
    "\n",
    "score = metrics.accuracy_score(y_test, y_pred_x)\n",
    "print(\"accuracy:   %0.3f\" % score)"
   ]
  },
  {
   "cell_type": "code",
   "execution_count": 30,
   "id": "975f6eab",
   "metadata": {
    "ExecuteTime": {
     "end_time": "2023-09-07T08:22:19.301086100Z",
     "start_time": "2023-09-07T08:22:19.065042200Z"
    }
   },
   "outputs": [
    {
     "data": {
      "image/png": "[encoded data removed]",
      "text/plain": [
       "<Figure size 800x600 with 2 Axes>"
      ]
     },
     "metadata": {},
     "output_type": "display_data"
    }
   ],
   "source": [
    "cm = confusion_matrix(y_test, y_pred_x)\n",
    "cm_df = pd.DataFrame(cm,\n",
    "                     index = ['benign', 'defacement','phishing','malware'], \n",
    "                     columns = ['benign', 'defacement','phishing','malware'])\n",
    "plt.figure(figsize=(8,6))\n",
    "sns.heatmap(cm_df, annot=True,fmt=\".1f\")\n",
    "plt.title('Confusion Matrix')\n",
    "plt.ylabel('Actal Values')\n",
    "plt.xlabel('Predicted Values')\n",
    "plt.show()"
   ]
  },
  {
   "cell_type": "code",
   "execution_count": 31,
   "id": "20241b17",
   "metadata": {
    "ExecuteTime": {
     "end_time": "2023-09-07T08:22:19.575822Z",
     "start_time": "2023-09-07T08:22:19.301086100Z"
    }
   },
   "outputs": [
    {
     "data": {
      "text/plain": [
       "<Axes: >"
      ]
     },
     "execution_count": 31,
     "metadata": {},
     "output_type": "execute_result"
    },
    {
     "data": {
      "image/png": "[encoded data removed]",
      "text/plain": [
       "<Figure size 1000x600 with 1 Axes>"
      ]
     },
     "metadata": {},
     "output_type": "display_data"
    }
   ],
   "source": [
    "feat_importances = pd.Series(xgb_c.feature_importances_, index=X_train.columns)\n",
    "feat_importances.sort_values().plot(kind=\"barh\",figsize=(10, 6))"
   ]
  },
  {
   "cell_type": "markdown",
   "id": "43cd684b",
   "metadata": {},
   "source": [
    "## Prediction "
   ]
  },
  {
   "cell_type": "code",
   "execution_count": 32,
   "id": "38b28661",
   "metadata": {
    "ExecuteTime": {
     "end_time": "2023-09-07T08:22:19.591654200Z",
     "start_time": "2023-09-07T08:22:19.581354900Z"
    }
   },
   "outputs": [],
   "source": [
    "def main(url):\n",
    "    \n",
    "    status = []\n",
    "    \n",
    "    status.append(having_ip_address(url))\n",
    "    status.append(abnormal_url(url))\n",
    "    status.append(count_dot(url))\n",
    "    status.append(count_www(url))\n",
    "    status.append(count_atrate(url))\n",
    "    status.append(no_of_dir(url))\n",
    "    status.append(no_of_embed(url))\n",
    "    \n",
    "    status.append(shortening_service(url))\n",
    "    status.append(count_https(url))\n",
    "    status.append(count_http(url))\n",
    "    \n",
    "\n",
    "    status.append(fd_length(url))\n",
    "    tld = get_tld(url,fail_silently=True)\n",
    "      \n",
    "    status.append(tld_length(tld))\n",
    "    \n",
    "    return status"
   ]
  },
  {
   "cell_type": "code",
   "execution_count": 33,
   "id": "514cfa34",
   "metadata": {
    "ExecuteTime": {
     "end_time": "2023-09-07T08:22:19.595172500Z",
     "start_time": "2023-09-07T08:22:19.588448200Z"
    }
   },
   "outputs": [],
   "source": [
    "def get_prediction_from_url(test_url):\n",
    "    features_test = main(test_url)\n",
    "    # Due to updates to scikit-learn, we now need a 2D array as a parameter to the predict function.\n",
    "    features_test = np.array(features_test).reshape((1, -1))\n",
    "\n",
    "    \n",
    "\n",
    "    pred = xgb_c.predict(features_test)\n",
    "    if int(pred[0]) == 0:\n",
    "        \n",
    "        res=\"SAFE\"\n",
    "        return res\n",
    "    elif int(pred[0]) == 1.0:\n",
    "        \n",
    "        res=\"DEFACEMENT\"\n",
    "        return res\n",
    "    elif int(pred[0]) == 2.0:\n",
    "        res=\"PHISHING\"\n",
    "        return res\n",
    "        \n",
    "    elif int(pred[0]) == 3.0:\n",
    "        \n",
    "        res=\"MALWARE\"\n",
    "        return res\n",
    "    \n"
   ]
  },
  {
   "cell_type": "code",
   "execution_count": 40,
   "id": "2c294725",
   "metadata": {
    "ExecuteTime": {
     "end_time": "2023-09-07T08:22:19.698319500Z",
     "start_time": "2023-09-07T08:22:19.595172500Z"
    }
   },
   "outputs": [
    {
     "name": "stdout",
     "output_type": "stream",
     "text": [
      "MALWARE\n",
      "SAFE\n"
     ]
    }
   ],
   "source": [
    "urls = ['https://www.youtube.com/','en.wikipedia.org/wiki/North_Dakota']\n",
    "for url in urls:\n",
    "     print(get_prediction_from_url(url))"
   ]
  },
  {
   "cell_type": "code",
   "execution_count": 35,
   "id": "aba1c854",
   "metadata": {
    "pycharm": {
     "is_executing": true
    }
   },
   "outputs": [],
   "source": [
    "import pickle\n",
    "with open('xgb_c_pkl', 'wb') as f:\n",
    "    pickle.dump(xgb_c, f)"
   ]
  },
  {
   "cell_type": "code",
   "execution_count": 36,
   "id": "806f3f76",
   "metadata": {},
   "outputs": [],
   "source": [
    "with open('xgb_c_pkl', 'rb') as f:\n",
    "    mod = pickle.load(f)"
   ]
  },
  {
   "cell_type": "code",
   "execution_count": 37,
   "id": "d8add4f4",
   "metadata": {},
   "outputs": [
    {
     "ename": "XGBoostError",
     "evalue": "[01:44:55] C:\\buildkite-agent\\builds\\buildkite-windows-cpu-autoscaling-group-i-0fdc6d574b9c0d168-1\\xgboost\\xgboost-ci-windows\\dmlc-core\\src\\io.cc:57: Please compile with DMLC_USE_S3=1 to use S3",
     "output_type": "error",
     "traceback": [
      "\u001b[1;31m---------------------------------------------------------------------------\u001b[0m",
      "\u001b[1;31mXGBoostError\u001b[0m                              Traceback (most recent call last)",
      "Cell \u001b[1;32mIn[37], line 3\u001b[0m\n\u001b[0;32m      1\u001b[0m urls \u001b[38;5;241m=\u001b[39m [\u001b[38;5;124m'\u001b[39m\u001b[38;5;124mhttps://www.google.com/\u001b[39m\u001b[38;5;124m'\u001b[39m,\u001b[38;5;124m'\u001b[39m\u001b[38;5;124men.wikipedia.org/wiki/North_Dakota\u001b[39m\u001b[38;5;124m'\u001b[39m]\n\u001b[0;32m      2\u001b[0m \u001b[38;5;28;01mfor\u001b[39;00m url \u001b[38;5;129;01min\u001b[39;00m urls:\n\u001b[1;32m----> 3\u001b[0m      \u001b[38;5;28mprint\u001b[39m(mod\u001b[38;5;241m.\u001b[39mpredict(url))\n",
      "File \u001b[1;32m~\\AppData\\Roaming\\Python\\Python311\\site-packages\\xgboost\\sklearn.py:1525\u001b[0m, in \u001b[0;36mXGBClassifier.predict\u001b[1;34m(self, X, output_margin, ntree_limit, validate_features, base_margin, iteration_range)\u001b[0m\n\u001b[0;32m   1515\u001b[0m \u001b[38;5;28;01mdef\u001b[39;00m \u001b[38;5;21mpredict\u001b[39m(\n\u001b[0;32m   1516\u001b[0m     \u001b[38;5;28mself\u001b[39m,\n\u001b[0;32m   1517\u001b[0m     X: ArrayLike,\n\u001b[1;32m   (...)\u001b[0m\n\u001b[0;32m   1522\u001b[0m     iteration_range: Optional[Tuple[\u001b[38;5;28mint\u001b[39m, \u001b[38;5;28mint\u001b[39m]] \u001b[38;5;241m=\u001b[39m \u001b[38;5;28;01mNone\u001b[39;00m,\n\u001b[0;32m   1523\u001b[0m ) \u001b[38;5;241m-\u001b[39m\u001b[38;5;241m>\u001b[39m np\u001b[38;5;241m.\u001b[39mndarray:\n\u001b[0;32m   1524\u001b[0m     \u001b[38;5;28;01mwith\u001b[39;00m config_context(verbosity\u001b[38;5;241m=\u001b[39m\u001b[38;5;28mself\u001b[39m\u001b[38;5;241m.\u001b[39mverbosity):\n\u001b[1;32m-> 1525\u001b[0m         class_probs \u001b[38;5;241m=\u001b[39m \u001b[38;5;28msuper\u001b[39m()\u001b[38;5;241m.\u001b[39mpredict(\n\u001b[0;32m   1526\u001b[0m             X\u001b[38;5;241m=\u001b[39mX,\n\u001b[0;32m   1527\u001b[0m             output_margin\u001b[38;5;241m=\u001b[39moutput_margin,\n\u001b[0;32m   1528\u001b[0m             ntree_limit\u001b[38;5;241m=\u001b[39mntree_limit,\n\u001b[0;32m   1529\u001b[0m             validate_features\u001b[38;5;241m=\u001b[39mvalidate_features,\n\u001b[0;32m   1530\u001b[0m             base_margin\u001b[38;5;241m=\u001b[39mbase_margin,\n\u001b[0;32m   1531\u001b[0m             iteration_range\u001b[38;5;241m=\u001b[39miteration_range,\n\u001b[0;32m   1532\u001b[0m         )\n\u001b[0;32m   1533\u001b[0m         \u001b[38;5;28;01mif\u001b[39;00m output_margin:\n\u001b[0;32m   1534\u001b[0m             \u001b[38;5;66;03m# If output_margin is active, simply return the scores\u001b[39;00m\n\u001b[0;32m   1535\u001b[0m             \u001b[38;5;28;01mreturn\u001b[39;00m class_probs\n",
      "File \u001b[1;32m~\\AppData\\Roaming\\Python\\Python311\\site-packages\\xgboost\\sklearn.py:1131\u001b[0m, in \u001b[0;36mXGBModel.predict\u001b[1;34m(self, X, output_margin, ntree_limit, validate_features, base_margin, iteration_range)\u001b[0m\n\u001b[0;32m   1127\u001b[0m     \u001b[38;5;28;01mexcept\u001b[39;00m \u001b[38;5;167;01mTypeError\u001b[39;00m:\n\u001b[0;32m   1128\u001b[0m         \u001b[38;5;66;03m# coo, csc, dt\u001b[39;00m\n\u001b[0;32m   1129\u001b[0m         \u001b[38;5;28;01mpass\u001b[39;00m\n\u001b[1;32m-> 1131\u001b[0m test \u001b[38;5;241m=\u001b[39m DMatrix(\n\u001b[0;32m   1132\u001b[0m     X,\n\u001b[0;32m   1133\u001b[0m     base_margin\u001b[38;5;241m=\u001b[39mbase_margin,\n\u001b[0;32m   1134\u001b[0m     missing\u001b[38;5;241m=\u001b[39m\u001b[38;5;28mself\u001b[39m\u001b[38;5;241m.\u001b[39mmissing,\n\u001b[0;32m   1135\u001b[0m     nthread\u001b[38;5;241m=\u001b[39m\u001b[38;5;28mself\u001b[39m\u001b[38;5;241m.\u001b[39mn_jobs,\n\u001b[0;32m   1136\u001b[0m     feature_types\u001b[38;5;241m=\u001b[39m\u001b[38;5;28mself\u001b[39m\u001b[38;5;241m.\u001b[39mfeature_types,\n\u001b[0;32m   1137\u001b[0m     enable_categorical\u001b[38;5;241m=\u001b[39m\u001b[38;5;28mself\u001b[39m\u001b[38;5;241m.\u001b[39menable_categorical,\n\u001b[0;32m   1138\u001b[0m )\n\u001b[0;32m   1139\u001b[0m \u001b[38;5;28;01mreturn\u001b[39;00m \u001b[38;5;28mself\u001b[39m\u001b[38;5;241m.\u001b[39mget_booster()\u001b[38;5;241m.\u001b[39mpredict(\n\u001b[0;32m   1140\u001b[0m     data\u001b[38;5;241m=\u001b[39mtest,\n\u001b[0;32m   1141\u001b[0m     iteration_range\u001b[38;5;241m=\u001b[39miteration_range,\n\u001b[0;32m   1142\u001b[0m     output_margin\u001b[38;5;241m=\u001b[39moutput_margin,\n\u001b[0;32m   1143\u001b[0m     validate_features\u001b[38;5;241m=\u001b[39mvalidate_features,\n\u001b[0;32m   1144\u001b[0m )\n",
      "File \u001b[1;32m~\\AppData\\Roaming\\Python\\Python311\\site-packages\\xgboost\\core.py:620\u001b[0m, in \u001b[0;36mrequire_keyword_args.<locals>.throw_if.<locals>.inner_f\u001b[1;34m(*args, **kwargs)\u001b[0m\n\u001b[0;32m    618\u001b[0m \u001b[38;5;28;01mfor\u001b[39;00m k, arg \u001b[38;5;129;01min\u001b[39;00m \u001b[38;5;28mzip\u001b[39m(sig\u001b[38;5;241m.\u001b[39mparameters, args):\n\u001b[0;32m    619\u001b[0m     kwargs[k] \u001b[38;5;241m=\u001b[39m arg\n\u001b[1;32m--> 620\u001b[0m \u001b[38;5;28;01mreturn\u001b[39;00m func(\u001b[38;5;241m*\u001b[39m\u001b[38;5;241m*\u001b[39mkwargs)\n",
      "File \u001b[1;32m~\\AppData\\Roaming\\Python\\Python311\\site-packages\\xgboost\\core.py:743\u001b[0m, in \u001b[0;36mDMatrix.__init__\u001b[1;34m(self, data, label, weight, base_margin, missing, silent, feature_names, feature_types, nthread, group, qid, label_lower_bound, label_upper_bound, feature_weights, enable_categorical)\u001b[0m\n\u001b[0;32m    740\u001b[0m     \u001b[38;5;28;01massert\u001b[39;00m \u001b[38;5;28mself\u001b[39m\u001b[38;5;241m.\u001b[39mhandle \u001b[38;5;129;01mis\u001b[39;00m \u001b[38;5;129;01mnot\u001b[39;00m \u001b[38;5;28;01mNone\u001b[39;00m\n\u001b[0;32m    741\u001b[0m     \u001b[38;5;28;01mreturn\u001b[39;00m\n\u001b[1;32m--> 743\u001b[0m handle, feature_names, feature_types \u001b[38;5;241m=\u001b[39m dispatch_data_backend(\n\u001b[0;32m    744\u001b[0m     data,\n\u001b[0;32m    745\u001b[0m     missing\u001b[38;5;241m=\u001b[39m\u001b[38;5;28mself\u001b[39m\u001b[38;5;241m.\u001b[39mmissing,\n\u001b[0;32m    746\u001b[0m     threads\u001b[38;5;241m=\u001b[39m\u001b[38;5;28mself\u001b[39m\u001b[38;5;241m.\u001b[39mnthread,\n\u001b[0;32m    747\u001b[0m     feature_names\u001b[38;5;241m=\u001b[39mfeature_names,\n\u001b[0;32m    748\u001b[0m     feature_types\u001b[38;5;241m=\u001b[39mfeature_types,\n\u001b[0;32m    749\u001b[0m     enable_categorical\u001b[38;5;241m=\u001b[39menable_categorical,\n\u001b[0;32m    750\u001b[0m )\n\u001b[0;32m    751\u001b[0m \u001b[38;5;28;01massert\u001b[39;00m handle \u001b[38;5;129;01mis\u001b[39;00m \u001b[38;5;129;01mnot\u001b[39;00m \u001b[38;5;28;01mNone\u001b[39;00m\n\u001b[0;32m    752\u001b[0m \u001b[38;5;28mself\u001b[39m\u001b[38;5;241m.\u001b[39mhandle \u001b[38;5;241m=\u001b[39m handle\n",
      "File \u001b[1;32m~\\AppData\\Roaming\\Python\\Python311\\site-packages\\xgboost\\data.py:964\u001b[0m, in \u001b[0;36mdispatch_data_backend\u001b[1;34m(data, missing, threads, feature_names, feature_types, enable_categorical)\u001b[0m\n\u001b[0;32m    962\u001b[0m     \u001b[38;5;28;01mreturn\u001b[39;00m _from_numpy_array(data, missing, threads, feature_names, feature_types)\n\u001b[0;32m    963\u001b[0m \u001b[38;5;28;01mif\u001b[39;00m _is_uri(data):\n\u001b[1;32m--> 964\u001b[0m     \u001b[38;5;28;01mreturn\u001b[39;00m _from_uri(data, missing, feature_names, feature_types)\n\u001b[0;32m    965\u001b[0m \u001b[38;5;28;01mif\u001b[39;00m _is_list(data):\n\u001b[0;32m    966\u001b[0m     \u001b[38;5;28;01mreturn\u001b[39;00m _from_list(data, missing, threads, feature_names, feature_types)\n",
      "File \u001b[1;32m~\\AppData\\Roaming\\Python\\Python311\\site-packages\\xgboost\\data.py:880\u001b[0m, in \u001b[0;36m_from_uri\u001b[1;34m(data, missing, feature_names, feature_types)\u001b[0m\n\u001b[0;32m    878\u001b[0m handle \u001b[38;5;241m=\u001b[39m ctypes\u001b[38;5;241m.\u001b[39mc_void_p()\n\u001b[0;32m    879\u001b[0m data \u001b[38;5;241m=\u001b[39m os\u001b[38;5;241m.\u001b[39mfspath(os\u001b[38;5;241m.\u001b[39mpath\u001b[38;5;241m.\u001b[39mexpanduser(data))\n\u001b[1;32m--> 880\u001b[0m _check_call(_LIB\u001b[38;5;241m.\u001b[39mXGDMatrixCreateFromFile(c_str(data),\n\u001b[0;32m    881\u001b[0m                                          ctypes\u001b[38;5;241m.\u001b[39mc_int(\u001b[38;5;241m1\u001b[39m),\n\u001b[0;32m    882\u001b[0m                                          ctypes\u001b[38;5;241m.\u001b[39mbyref(handle)))\n\u001b[0;32m    883\u001b[0m \u001b[38;5;28;01mreturn\u001b[39;00m handle, feature_names, feature_types\n",
      "File \u001b[1;32m~\\AppData\\Roaming\\Python\\Python311\\site-packages\\xgboost\\core.py:279\u001b[0m, in \u001b[0;36m_check_call\u001b[1;34m(ret)\u001b[0m\n\u001b[0;32m    268\u001b[0m \u001b[38;5;250m\u001b[39m\u001b[38;5;124;03m\"\"\"Check the return value of C API call\u001b[39;00m\n\u001b[0;32m    269\u001b[0m \n\u001b[0;32m    270\u001b[0m \u001b[38;5;124;03mThis function will raise exception when error occurs.\u001b[39;00m\n\u001b[1;32m   (...)\u001b[0m\n\u001b[0;32m    276\u001b[0m \u001b[38;5;124;03m    return value from API calls\u001b[39;00m\n\u001b[0;32m    277\u001b[0m \u001b[38;5;124;03m\"\"\"\u001b[39;00m\n\u001b[0;32m    278\u001b[0m \u001b[38;5;28;01mif\u001b[39;00m ret \u001b[38;5;241m!=\u001b[39m \u001b[38;5;241m0\u001b[39m:\n\u001b[1;32m--> 279\u001b[0m     \u001b[38;5;28;01mraise\u001b[39;00m XGBoostError(py_str(_LIB\u001b[38;5;241m.\u001b[39mXGBGetLastError()))\n",
      "\u001b[1;31mXGBoostError\u001b[0m: [01:44:55] C:\\buildkite-agent\\builds\\buildkite-windows-cpu-autoscaling-group-i-0fdc6d574b9c0d168-1\\xgboost\\xgboost-ci-windows\\dmlc-core\\src\\io.cc:57: Please compile with DMLC_USE_S3=1 to use S3"
     ]
    }
   ],
   "source": [
    "urls = ['https://www.google.com/','en.wikipedia.org/wiki/North_Dakota']\n",
    "for url in urls:\n",
    "     print(mod.predict(url))"
   ]
  },
  {
   "cell_type": "code",
   "execution_count": 38,
   "id": "f571be38",
   "metadata": {},
   "outputs": [],
   "source": [
    "def get_prediction_from_url(test_url):\n",
    "    features_test = main(test_url)\n",
    "    # Due to updates to scikit-learn, we now need a 2D array as a parameter to the predict function.\n",
    "    features_test = np.array(features_test).reshape((1, -1))\n",
    "\n",
    "    \n",
    "\n",
    "    pred = mod.predict(features_test)\n",
    "    if int(pred[0]) == 0:\n",
    "        \n",
    "        res=\"SAFE\"\n",
    "        return res\n",
    "    elif int(pred[0]) == 1.0:\n",
    "        \n",
    "        res=\"DEFACEMENT\"\n",
    "        return res\n",
    "    elif int(pred[0]) == 2.0:\n",
    "        res=\"PHISHING\"\n",
    "        return res\n",
    "        \n",
    "    elif int(pred[0]) == 3.0:\n",
    "        \n",
    "        res=\"MALWARE\"\n",
    "        return res\n",
    "    "
   ]
  },
  {
   "cell_type": "code",
   "execution_count": 39,
   "id": "2796ec01",
   "metadata": {},
   "outputs": [
    {
     "name": "stdout",
     "output_type": "stream",
     "text": [
      "MALWARE\n",
      "SAFE\n"
     ]
    }
   ],
   "source": [
    "urls = ['https://www.google.com/','en.wikipedia.org/wiki/North_Dakota']\n",
    "for url in urls:\n",
    "     print(get_prediction_from_url(url))"
   ]
  },
  {
   "cell_type": "code",
   "execution_count": null,
   "id": "29c32f56",
   "metadata": {},
   "outputs": [],
   "source": []
  }
 ],
 "metadata": {
  "kernelspec": {
   "display_name": "Python 3 (ipykernel)",
   "language": "python",
   "name": "python3"
  },
  "language_info": {
   "codemirror_mode": {
    "name": "ipython",
    "version": 3
   },
   "file_extension": ".py",
   "mimetype": "text/x-python",
   "name": "python",
   "nbconvert_exporter": "python",
   "pygments_lexer": "ipython3",
   "version": "3.11.4"
  }
 },
 "nbformat": 4,
 "nbformat_minor": 5
}
